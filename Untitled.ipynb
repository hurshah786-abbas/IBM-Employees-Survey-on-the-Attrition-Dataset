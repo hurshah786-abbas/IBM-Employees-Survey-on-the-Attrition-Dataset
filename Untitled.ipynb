{
 "cells": [
  {
   "cell_type": "markdown",
   "id": "87d830f2",
   "metadata": {},
   "source": [
    "# Table of the Content\n",
    "\n",
    "### 1) Introduction\n",
    "### 2) Background & need for study:\n",
    "### 3) Scope & Objectives(Business Questions):\n",
    "### 4) Approach & methodology:\n",
    "### 5) Importing Libraries \n",
    "### 6) Importing Dataset Using OS Libraries\n",
    "### 7) Loading Dataset \n",
    "### 8) Data Description and filteration\n",
    "#### 8.1) Checking for Null values in dataset\n",
    "#### 8.2)Visualizing Data Insights\n",
    "#### 8.3) Here we are Checking for the duplicated column if it is there any)\n",
    "#### 8.4) Checking for Unique values in each column\n",
    "### 9) Lets do some Data Cleansing \n",
    "### 10) Plotting Histogram\n",
    "### 11) Data Findings on intial analysis \n",
    "### 12) Dropping the Columns we don't need\n",
    "### 13) Statistics and Insight in detail\n",
    "#### 13.1) Lets see what the statistics tell us and compare them\n",
    "##### 13.1.1)  Employees who left the company\n",
    "##### 13.1.2) Employee who stayed with the company\n",
    "#### 13.2) Answer to the Business Questions\n",
    "### 14) Plotting the heatmap to find correlations\n",
    "#### 14.1) Analysis of Heatmap\n",
    "### 15) Feature Selection and Target Mapping\n",
    "#### 15.1) Age vs Atttrition\n",
    "#### 15.2) JobRole vs Attrition\n",
    "#### 15.3) Marital Status vs Attrition\n",
    "#### 15.4) JobInvolvement vs Attrition\n",
    "#### 15.5) JobLevel vs Attrition\n",
    "#### 15.6) Distance from Home vs Attrition\n",
    "#### 15.7) Years with Current Manager vs Attrition\n",
    "#### 15.8) Total working years vs Attrition\n",
    "#### 15.9) Monthly Income vs JobRole\n",
    "#### 15.10) Monnthly Income vs JobRole vs Attrition\n",
    "\n",
    "### 16) Conclusion\n"
   ]
  },
  {
   "cell_type": "markdown",
   "id": "9dc583e1",
   "metadata": {},
   "source": [
    "# 5) Recommendations & actionable insights:\n",
    "The high-level recommendations for the project are developed by predicting attrition of an employee. These are then linked to the model findings to recommend actionable insights, which include speaking to employee on correct time to avoid attrition. Attrition is a problem that impacts all businesses, irrespective of geography, industry and size of the company. Employee attrition leads to significant costs for a business, including the cost of business disruption, hiring new staff and training new staff. As such, there is great business interest in understanding the drivers of and minimizing staff attrition.\n",
    "In this context, the use of classification models to predict if an employee is likely to quit could greatly increase the HR’s ability to intervene on time and remedy the situation to prevent attrition. While this model can be routinely run to identify employees, who are most likely to quit, the key driver of success would be the human element of reaching out the employee, understanding the current situation of the employee and taking action to remedy controllable factors that can prevent attrition of the employee.\n",
    "\n",
    "Employees are the backbone of every organization and if the company is not able to hold their employees it will be directly propotional to the loss in their business and integrity in the job market.Weakening is an issue that impacts all organizations, regardless of topography, industry and size of the organization. Employees leaving the company prompts huge expenses for a business, including the expense of business interruption, recruiting new staff and preparing new staff. All things considered, there is incredible financial matter in understanding the drivers of and limiting staff whittling down.So from all of this pipelining and data exploration, what we have explored and learned is that, The employees who left the company was from the Sales Representative department and the least Attrition was found on the role of Research director and Managers. Overall approximately 17% of the employees left the company and 83% employees stayed with the company.Well we have found that Distance from home to work place matters alot and the job involvements is the other factor that impacts the overall attrition rate.From all of the knowledge we gain now we are at the point where we can tell a story to the board of directors that what's going wrong and which department facing the most rate of Attrition.\n",
    "\n",
    "The undeniable level proposals for the venture are created by foreseeing wearing down of a representative. These are then connected to the model discoveries to suggest significant experiences, which remember addressing representative for right chance to keep away from weakening. Weakening is an issue that impacts all organizations, regardless of topography, industry and size of the organization. Representative wearing down prompts huge expenses for a business, including the expense of business interruption, recruiting new staff and preparing new staff. All things considered, there is incredible financial matter in understanding the drivers of and limiting staff whittling down.\n",
    "In this unique circumstance, the utilization of characterization models to foresee in the event that a worker is probably going to stop could incredibly build the HR's capacity to mediate on schedule and cure what is happening to forestall weakening. While this model can be regularly rushed to recognize workers, who are probably going to stop, the critical driver of accomplishment would be the human component of connecting the representative, understanding the flow circumstance of the worker and making a move to cure controllable variables that can forestall weakening of the representative."
   ]
  }
 ],
 "metadata": {
  "kernelspec": {
   "display_name": "Python 3 (ipykernel)",
   "language": "python",
   "name": "python3"
  },
  "language_info": {
   "codemirror_mode": {
    "name": "ipython",
    "version": 3
   },
   "file_extension": ".py",
   "mimetype": "text/x-python",
   "name": "python",
   "nbconvert_exporter": "python",
   "pygments_lexer": "ipython3",
   "version": "3.7.11"
  }
 },
 "nbformat": 4,
 "nbformat_minor": 5
}
